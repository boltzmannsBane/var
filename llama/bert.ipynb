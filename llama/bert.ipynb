{
 "cells": [
  {
   "cell_type": "code",
   "execution_count": 4,
   "id": "2d4a740d-6f10-4617-a088-44d4251dc625",
   "metadata": {},
   "outputs": [
    {
     "name": "stdout",
     "output_type": "stream",
     "text": [
      "[(0.7690949440002441, 'Apples are my favorite fruit'), (0.7427406311035156, 'Wishing you great harvest'), (0.6510136127471924, 'The radio seems broken'), (0.5235278606414795, 'Ive got the newest newspaper'), (0.5063028335571289, 'There is an orchard nearby'), (0.4969409108161926, 'We found some fruit in the fridge'), (0.46399056911468506, 'Anybody seen my friend Josh?')]\n"
     ]
    }
   ],
   "source": [
    "import torch\n",
    "from scipy import spatial\n",
    "from transformers import AutoTokenizer, AutoModel\n",
    "\n",
    "tokenizer = AutoTokenizer.from_pretrained('bert-base-uncased')\n",
    "model = AutoModel.from_pretrained('bert-base-uncased')\n",
    "\n",
    "sentences = ['I love apples', 'Apples are my favorite fruit', 'Ive got the newest newspaper', 'The radio seems broken', 'Anybody seen my friend Josh?', 'There is an orchard nearby', 'Wishing you great harvest', 'We found some fruit in the fridge']\n",
    "\n",
    "inputs = tokenizer(sentences, padding=True, truncation=True, return_tensors=\"pt\")\n",
    "with torch.no_grad():\n",
    "    outputs = model(**inputs)\n",
    "\n",
    "embeddings = outputs.last_hidden_state\n",
    "\n",
    "emb1 = torch.mean(embeddings[0], dim=0)\n",
    "\n",
    "similarities = []\n",
    "for i, emb in enumerate(embeddings[1:]):\n",
    "    emb_i = torch.mean(emb, dim=0) \n",
    "    cos_sim = 1 - spatial.distance.cosine(emb1, emb_i)\n",
    "    similarities.append((cos_sim.item(), sentences[i+1]))\n",
    "\n",
    "similarities.sort(reverse=True)\n",
    "print(similarities)"
   ]
  },
  {
   "cell_type": "code",
   "execution_count": null,
   "id": "bdc66a40-3c5b-4c5c-bb76-d72f5a74ba58",
   "metadata": {},
   "outputs": [],
   "source": []
  },
  {
   "cell_type": "code",
   "execution_count": null,
   "id": "b7167f2e-eb19-4d49-b76e-3b4597ada8aa",
   "metadata": {},
   "outputs": [],
   "source": []
  }
 ],
 "metadata": {
  "kernelspec": {
   "display_name": "Python 3 (ipykernel)",
   "language": "python",
   "name": "python3"
  },
  "language_info": {
   "codemirror_mode": {
    "name": "ipython",
    "version": 3
   },
   "file_extension": ".py",
   "mimetype": "text/x-python",
   "name": "python",
   "nbconvert_exporter": "python",
   "pygments_lexer": "ipython3",
   "version": "3.9.16"
  }
 },
 "nbformat": 4,
 "nbformat_minor": 5
}

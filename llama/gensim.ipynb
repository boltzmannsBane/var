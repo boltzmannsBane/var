{
 "cells": [
  {
   "cell_type": "code",
   "execution_count": null,
   "id": "90f9097d-c62e-47d5-976a-cfb74691644a",
   "metadata": {},
   "outputs": [
    {
     "name": "stdout",
     "output_type": "stream",
     "text": [
      "[--------------------------------------------------] 0.4% 7.0/1662.8MB downloaded"
     ]
    }
   ],
   "source": [
    "import gensim.downloader as api\n",
    "import numpy as np\n",
    "\n",
    "model = api.load('word2vec-google-news-300') \n",
    "\n",
    "words = ['border collie', 'pitbull', 'trumpet', 'german shepherd', 'ball', 'cat', 'poodle']\n",
    "\n",
    "emb_dog = model['dog']\n",
    "emb_sims = []\n",
    "\n",
    "for word in words:\n",
    "    try:\n",
    "        emb_word = model[word]\n",
    "        sim = 1 - np.dot(emb_dog, emb_word) / (np.linalg.norm(emb_dog) * np.linalg.norm(emb_word))\n",
    "        emb_sims.append((word, sim))\n",
    "    except KeyError:\n",
    "        # Ignore words not in vocab\n",
    "        pass\n",
    "        \n",
    "emb_sims.sort(key=lambda x: x[1])\n",
    "\n",
    "print(emb_sims)"
   ]
  },
  {
   "cell_type": "code",
   "execution_count": null,
   "id": "afa4dd06-a395-4736-bb63-db988e56297a",
   "metadata": {},
   "outputs": [],
   "source": []
  }
 ],
 "metadata": {
  "kernelspec": {
   "display_name": "Python 3 (ipykernel)",
   "language": "python",
   "name": "python3"
  },
  "language_info": {
   "codemirror_mode": {
    "name": "ipython",
    "version": 3
   },
   "file_extension": ".py",
   "mimetype": "text/x-python",
   "name": "python",
   "nbconvert_exporter": "python",
   "pygments_lexer": "ipython3",
   "version": "3.9.16"
  }
 },
 "nbformat": 4,
 "nbformat_minor": 5
}
